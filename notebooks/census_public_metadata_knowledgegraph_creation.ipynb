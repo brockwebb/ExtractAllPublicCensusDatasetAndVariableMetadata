{
 "cells": [
  {
   "cell_type": "markdown",
   "id": "02e1bafc-d46e-45b9-984d-436ccfb7938e",
   "metadata": {},
   "source": [
    "# Section 1: Environment Setup and Imports\n",
    "In this first section, we’ll:\n",
    "1. Load environment variables containing API keys and Neo4j credentials.\n",
    "1. Import the necessary Python libraries.\n",
    "1. Create a connection to the Neo4j database.\n",
    "\n",
    "**Key Points**:\n",
    "- We’re using python-dotenv to load .env.\n",
    "- We’ll verify that we can connect to Neo4j.\n",
    "- No data manipulation happens here yet; just setup.\n"
   ]
  },
  {
   "cell_type": "code",
   "execution_count": 3,
   "id": "6ef04f12-eb41-4463-b4ed-e4595b89e926",
   "metadata": {},
   "outputs": [
    {
     "name": "stdout",
     "output_type": "stream",
     "text": [
      "Collecting rdflib\n",
      "  Downloading rdflib-7.1.1-py3-none-any.whl.metadata (11 kB)\n",
      "Requirement already satisfied: pyparsing<4,>=2.1.0 in /opt/anaconda3/envs/graphrag_env/lib/python3.11/site-packages (from rdflib) (3.2.0)\n",
      "Downloading rdflib-7.1.1-py3-none-any.whl (562 kB)\n",
      "\u001b[2K   \u001b[90m━━━━━━━━━━━━━━━━━━━━━━━━━━━━━━━━━━━━━━━━\u001b[0m \u001b[32m562.4/562.4 kB\u001b[0m \u001b[31m7.2 MB/s\u001b[0m eta \u001b[36m0:00:00\u001b[0m\n",
      "\u001b[?25hInstalling collected packages: rdflib\n",
      "Successfully installed rdflib-7.1.1\n"
     ]
    }
   ],
   "source": [
    "# Setup additional dependencies \n",
    "!pip install rdflib"
   ]
  },
  {
   "cell_type": "code",
   "execution_count": 6,
   "id": "b5d44e00-bc92-4d70-9849-96eba771ed93",
   "metadata": {},
   "outputs": [
    {
     "name": "stdout",
     "output_type": "stream",
     "text": [
      "Neo4j Connection Test Result: 1\n"
     ]
    }
   ],
   "source": [
    "# Section 1: Environment Setup and Imports\n",
    "\n",
    "import os\n",
    "from dotenv import load_dotenv\n",
    "from neo4j import GraphDatabase\n",
    "from rdflib import Graph\n",
    "import pandas as pd\n",
    "\n",
    "# Load environment variables\n",
    "load_dotenv(\"../.env\")\n",
    "\n",
    "# Retrieve environment variables\n",
    "NEO4J_URI = os.getenv(\"NEO4J_URI\")\n",
    "NEO4J_USER = os.getenv(\"NEO4J_USER\")\n",
    "NEO4J_PASSWORD = os.getenv(\"NEO4J_PASSWORD\")\n",
    "OPENAI_API_KEY = os.getenv(\"OPENAI_API_KEY\")\n",
    "\n",
    "# Initialize Neo4j driver\n",
    "driver = GraphDatabase.driver(NEO4J_URI, auth=(NEO4J_USER, NEO4J_PASSWORD))\n",
    "\n",
    "# Test connection\n",
    "with driver.session() as session:\n",
    "    result = session.run(\"RETURN 1 AS test\")\n",
    "    print(\"Neo4j Connection Test Result:\", result.single()[\"test\"])\n"
   ]
  },
  {
   "cell_type": "markdown",
   "id": "b69c5531-e35e-4832-882f-f80960b3b877",
   "metadata": {},
   "source": [
    "# Section 2: Parse and Ingest Ontology (TTL) into Neo4j\n",
    "We’ll parse the ontology Turtle file using rdflib. We’ll store classes, object properties, and data properties as reference nodes in Neo4j. For now, we won’t apply complex SHACL validation, but we’ll set up the structure for later validation steps.\n",
    "\n",
    "**Key Points**:\n",
    "- Parse TTL using rdflib.\n",
    "- Create OntologyClass, OntologyObjectProperty, and OntologyDataProperty nodes in Neo4j.\n",
    "- This provides a reference backbone for later data integration and LLM-driven enrichment.\n"
   ]
  },
  {
   "cell_type": "code",
   "execution_count": 14,
   "id": "1657a830-0e8a-442c-91ce-066162081635",
   "metadata": {},
   "outputs": [
    {
     "name": "stdout",
     "output_type": "stream",
     "text": [
      "Parsing ontology...\n",
      "Ingesting ontology into Neo4j...\n",
      "Ontology parsing and ingestion completed.\n"
     ]
    }
   ],
   "source": [
    "# Section 2: Parse and Ingest Ontology\n",
    "\n",
    "print(\"Parsing ontology...\")\n",
    "# Parse ontology\n",
    "g = Graph()\n",
    "ontology_path = \"./data/ontology_creation/refined_ontology_v1.ttl\"\n",
    "g.parse(ontology_path, format=\"turtle\")\n",
    "\n",
    "classes = [s for s, p, o in g if str(p).endswith(\"type\") and o.endswith(\"Class\")]\n",
    "object_properties = [s for s, p, o in g if str(p).endswith(\"type\") and o.endswith(\"ObjectProperty\")]\n",
    "data_properties = [s for s, p, o in g if str(p).endswith(\"type\") and o.endswith(\"DatatypeProperty\")]\n",
    "\n",
    "print(\"Ingesting ontology into Neo4j...\")\n",
    "\n",
    "with driver.session() as session:\n",
    "    # Create OntologyClass nodes\n",
    "    for c in classes:\n",
    "        label = c.split(\"#\")[-1]\n",
    "        session.run(\"\"\"\n",
    "        MERGE (oc:OntologyClass {name: $name, uri: $uri})\n",
    "        \"\"\", name=label, uri=str(c))\n",
    "\n",
    "    # Create OntologyObjectProperty nodes\n",
    "    for op in object_properties:\n",
    "        label = op.split(\"#\")[-1]\n",
    "        session.run(\"\"\"\n",
    "        MERGE (oop:OntologyObjectProperty {name: $name, uri: $uri})\n",
    "        \"\"\", name=label, uri=str(op))\n",
    "\n",
    "    # Create OntologyDataProperty nodes\n",
    "    for dp in data_properties:\n",
    "        label = dp.split(\"#\")[-1]\n",
    "        session.run(\"\"\"\n",
    "        MERGE (odp:OntologyDataProperty {name: $name, uri: $uri})\n",
    "        \"\"\", name=label, uri=str(dp))\n",
    "\n",
    "print(\"Ontology parsing and ingestion completed.\")\n"
   ]
  },
  {
   "cell_type": "markdown",
   "id": "51be67e2-9708-4c17-8958-ea9fa675c7af",
   "metadata": {},
   "source": [
    "# Step 3. Inital data load\n",
    "\n",
    "Ingest all of the provided data files except for the large directory of chunked group-variable data. \n",
    "\n",
    "1. SurveyNode.csv – loads survey nodes.\n",
    "1. ExamplesNode.csv – links examples to survey nodes.\n",
    "1. GeographyNode.csv – loads geography nodes (standalone for now).\n",
    "1. SurveyGroupNode.csv – loads survey groups and links them to survey nodes.\n",
    "1. SurveyVariablesNoGroupNode.csv – creates a NoGroup node for each survey and links these variables under that pseudo-group.\n",
    "\n",
    "**Note**:\n",
    "This code does not iterate through the GroupNodesWithVariables directory. We will handle the large chunked data set separately in a future step. For now, this section ensures that all the basic data (survey, examples, geography, groups, and no-group variables) are loaded into the graph.\n",
    "\n",
    "**What This Code Does**:\n",
    "Ensure a consistent pattern and prepares the graph for the next step: ingesting the large, chunked group-variable data set:\n",
    "1. Surveys: Ingests and sets them as the backbone (:SurveyNode).\n",
    "1. Examples: Creates :ExamplesNode and links them to their surveys with :HAS_EXAMPLE.\n",
    "1. Geography: Creates :GeographyNode. If needed, can link them to surveys or to each other.\n",
    "1. Groups: Creates :SurveyGroupNode and links them to their surveys. This lays the groundwork for grouped variables.\n",
    "1. No-Group Variables: Treats ungrouped variables as children of a NoGroup group. Creates the NoGroup group node per survey if it doesn’t exist and links variables under it.\n"
   ]
  },
  {
   "cell_type": "code",
   "execution_count": 17,
   "id": "ec39fd46-599e-498a-8065-9a6fff6f33d2",
   "metadata": {},
   "outputs": [
    {
     "name": "stderr",
     "output_type": "stream",
     "text": [
      "Loading Surveys: 100%|██████████████████████| 1648/1648 [00:17<00:00, 96.08it/s]\n",
      "Loading Examples: 100%|███████████████████| 22649/22649 [04:12<00:00, 89.82it/s]\n",
      "Loading Geography: 100%|██████████████████| 10101/10101 [03:11<00:00, 52.70it/s]\n",
      "Loading Groups: 100%|█████████████████████| 64873/64873 [18:35<00:00, 58.14it/s]\n",
      "/var/folders/s1/yqb3d76d7053f7dyy9fwtkzw0000gp/T/ipykernel_4108/21584706.py:82: DtypeWarning: Columns (5) have mixed types. Specify dtype option on import or set low_memory=False.\n",
      "  df_no_group_vars = pd.read_csv(no_group_vars_csv_path)\n",
      "Ensuring NoGroup Node per Survey: 100%|█████| 1618/1618 [00:27<00:00, 58.73it/s]\n",
      "Loading No-Group Variables: 100%|████| 539733/539733 [13:41:42<00:00, 10.95it/s]"
     ]
    },
    {
     "name": "stdout",
     "output_type": "stream",
     "text": [
      "Base data (Surveys, Examples, Geography, Groups, No-Group Variables) loaded successfully.\n"
     ]
    },
    {
     "name": "stderr",
     "output_type": "stream",
     "text": [
      "\n"
     ]
    }
   ],
   "source": [
    "# Section 3: Ingest Survey, Example, Geography, Group, and No-Group Variable Data\n",
    "import pandas as pd\n",
    "from tqdm import tqdm\n",
    "\n",
    "survey_csv_path = \"../data/data_extraction/SurveyNode.csv\"\n",
    "examples_csv_path = \"../data/data_extraction/ExamplesNode.csv\"\n",
    "geography_csv_path = \"../data/data_extraction/GeographyNode.csv\"\n",
    "group_csv_path = \"../data/data_extraction/SurveyGroupNode.csv\"\n",
    "no_group_vars_csv_path = \"../data/data_extraction/SurveyVariablesNoGroupNode.csv\"\n",
    "\n",
    "# 1) Ingest Survey Nodes\n",
    "df_survey = pd.read_csv(survey_csv_path)\n",
    "with driver.session() as session:\n",
    "    for idx, row in tqdm(df_survey.iterrows(), total=len(df_survey), desc=\"Loading Surveys\"):\n",
    "        session.run(\"\"\"\n",
    "        MERGE (s:SurveyNode {SurveyID: $SurveyID})\n",
    "        SET s.DatasetType = $DatasetType,\n",
    "            s.ReleaseYear = $ReleaseYear,\n",
    "            s.Source = $Source,\n",
    "            s.source = \"CSV_import\",\n",
    "            s.enrichment_pass = 0,\n",
    "            s.creation_timestamp = timestamp()\n",
    "        \"\"\", \n",
    "        SurveyID=row[\"SurveyID\"],\n",
    "        DatasetType=row.get(\"DatasetType\", None),\n",
    "        ReleaseYear=row.get(\"ReleaseYear\", None),\n",
    "        Source=row.get(\"Source\", None))\n",
    "\n",
    "# 2) Ingest Examples and Link to Surveys\n",
    "df_examples = pd.read_csv(examples_csv_path)\n",
    "with driver.session() as session:\n",
    "    for idx, row in tqdm(df_examples.iterrows(), total=len(df_examples), desc=\"Loading Examples\"):\n",
    "        session.run(\"\"\"\n",
    "        MATCH (s:SurveyNode {SurveyID: $SurveyID})\n",
    "        MERGE (e:ExamplesNode {ExampleID: $ExampleID})\n",
    "        SET e.source = \"CSV_import\",\n",
    "            e.enrichment_pass = 0,\n",
    "            e.creation_timestamp = timestamp()\n",
    "        MERGE (s)-[:HAS_EXAMPLE]->(e)\n",
    "        \"\"\",\n",
    "        SurveyID=row[\"SurveyID\"],\n",
    "        ExampleID=row[\"ExampleID\"] if \"ExampleID\" in row else idx)\n",
    "\n",
    "# 3) Ingest Geography Nodes and Link to Surveys\n",
    "df_geo = pd.read_csv(geography_csv_path)\n",
    "with driver.session() as session:\n",
    "    for idx, row in tqdm(df_geo.iterrows(), total=len(df_geo), desc=\"Loading Geography\"):\n",
    "        session.run(\"\"\"\n",
    "        MERGE (g:GeographyNode {GeoID: $GeoID})\n",
    "        SET g.GeographyLevel = $GeographyLevel,\n",
    "            g.source = \"CSV_import\",\n",
    "            g.enrichment_pass = 0,\n",
    "            g.creation_timestamp = timestamp()\n",
    "        \"\"\",\n",
    "        GeoID=row[\"GeoID\"] if \"GeoID\" in row else f\"Geo_{idx}\",\n",
    "        GeographyLevel=row.get(\"GeographyLevel\", None))\n",
    "\n",
    "        # Link geography to survey if SurveyID is present\n",
    "        if \"SurveyID\" in row and pd.notnull(row[\"SurveyID\"]):\n",
    "            session.run(\"\"\"\n",
    "            MATCH (s:SurveyNode {SurveyID: $SurveyID})\n",
    "            MATCH (g:GeographyNode {GeoID: $GeoID})\n",
    "            MERGE (s)-[:APPLIES_TO]->(g)\n",
    "            \"\"\", SurveyID=row[\"SurveyID\"], GeoID=row[\"GeoID\"] if \"GeoID\" in row else f\"Geo_{idx}\")\n",
    "\n",
    "# 4) Ingest Survey Groups and Link to Surveys\n",
    "df_group = pd.read_csv(group_csv_path)\n",
    "with driver.session() as session:\n",
    "    for idx, row in tqdm(df_group.iterrows(), total=len(df_group), desc=\"Loading Groups\"):\n",
    "        session.run(\"\"\"\n",
    "        MATCH (s:SurveyNode {SurveyID: $SurveyID})\n",
    "        MERGE (g:SurveyGroupNode {SurveyID: $SurveyID, GroupName: $GroupName})\n",
    "        SET g.source = \"CSV_import\",\n",
    "            g.enrichment_pass = 0,\n",
    "            g.creation_timestamp = timestamp()\n",
    "        MERGE (s)-[:HAS_GROUP]->(g)\n",
    "        \"\"\",\n",
    "        SurveyID=row[\"SurveyID\"],\n",
    "        GroupName=row[\"GroupName\"])\n",
    "\n",
    "# 5) Ingest No-Group Variables\n",
    "df_no_group_vars = pd.read_csv(no_group_vars_csv_path)\n",
    "\n",
    "# If the CSV uses \"Variable Name\" as a column header, rename it to \"VariableName\"\n",
    "if \"Variable Name\" in df_no_group_vars.columns:\n",
    "    df_no_group_vars.rename(columns={\"Variable Name\": \"VariableName\"}, inplace=True)\n",
    "\n",
    "with driver.session() as session:\n",
    "    survey_ids_no_group = df_no_group_vars[\"SurveyID\"].unique()\n",
    "    \n",
    "    # Ensure a NoGroup node exists for each Survey\n",
    "    for sid in tqdm(survey_ids_no_group, desc=\"Ensuring NoGroup Node per Survey\"):\n",
    "        session.run(\"\"\"\n",
    "        MATCH (s:SurveyNode {SurveyID: $SurveyID})\n",
    "        MERGE (ng:SurveyGroupNode {SurveyID: $SurveyID, GroupName: \"NoGroup\"})\n",
    "        SET ng.source = \"CSV_import\",\n",
    "            ng.enrichment_pass = 0,\n",
    "            ng.creation_timestamp = timestamp()\n",
    "        MERGE (s)-[:HAS_GROUP]->(ng)\n",
    "        \"\"\", SurveyID=sid)\n",
    "\n",
    "    # Create variable nodes and link them to NoGroup\n",
    "    for idx, row in tqdm(df_no_group_vars.iterrows(), total=len(df_no_group_vars), desc=\"Loading No-Group Variables\"):\n",
    "        session.run(\"\"\"\n",
    "        MATCH (g:SurveyGroupNode {SurveyID: $SurveyID, GroupName: \"NoGroup\"})\n",
    "        MERGE (v:SurveyVariableNode {\n",
    "            SurveyID: $SurveyID,\n",
    "            VariableName: $VariableName\n",
    "        })\n",
    "        ON CREATE SET v.Universe = $Universe,\n",
    "                      v.Concept = $Concept,\n",
    "                      v.MeasurementUnit = $MeasurementUnit,\n",
    "                      v.source = \"CSV_import\",\n",
    "                      v.enrichment_pass = 0,\n",
    "                      v.creation_timestamp = timestamp()\n",
    "        MERGE (g)-[:HAS_VARIABLE]->(v)\n",
    "        \"\"\",\n",
    "        SurveyID=row[\"SurveyID\"],\n",
    "        VariableName=row[\"VariableName\"],\n",
    "        Universe=row.get(\"Universe\", None),\n",
    "        Concept=row.get(\"Concept\", None),\n",
    "        MeasurementUnit=row.get(\"MeasurementUnit\", None))\n",
    "\n",
    "print(\"Base data (Surveys, Examples, Geography, Groups, No-Group Variables) loaded successfully.\")\n"
   ]
  },
  {
   "cell_type": "markdown",
   "id": "2d2e2796-4206-4a6e-8fff-f3f298e1fd65",
   "metadata": {},
   "source": [
    "# Step 4: Merging GroupNodesWithVariables\n",
    "\n",
    "Below is code for the next step, which involves ingesting the large set of group-variable data stored in multiple CSV files within the GroupNodesWithVariables directory. We will:\n",
    "\n",
    "1. Iterate over all chunked CSV files in GroupNodesWithVariables.\n",
    "1. For each chunk:\n",
    "    - Read the CSV into a DataFrame.\n",
    "    - (If needed) rename \"Variable Name\" to \"VariableName\".\n",
    "    - For each row, find or create the corresponding :SurveyGroupNode (using SurveyID and GroupName) and :SurveyVariableNode (using SurveyID and VariableName).\n",
    "    - Link the variable to the group with :HAS_VARIABLE.\n",
    "\n",
    "**Performance Considerations**:\n",
    "- This may be time-consuming if the datasets are large. Consider breaking them into batches or using Neo4j’s LOAD CSV for even faster ingestion. For now, we’ll proceed similarly to previous steps, using tqdm to track progress.\n",
    "- To speed things up, the following indexes were added in Neo4j before this step:\n",
    "\n",
    "**NOTE**: this syntax is for Neo4j 5.x or later...\n",
    "```\n",
    "// Create a uniqueness constraint for SurveyGroupID\n",
    "CREATE CONSTRAINT FOR (g:SurveyGroupNode)\n",
    "REQUIRE g.SurveyGroupID IS UNIQUE;\n",
    "\n",
    "// Create a uniqueness constraint for SurveyID\n",
    "CREATE CONSTRAINT FOR (s:SurveyNode)\n",
    "REQUIRE s.SurveyID IS UNIQUE;\n",
    "\n",
    "// Create a uniqueness constraint for SurveyGroupID and VariableName\n",
    "CREATE CONSTRAINT FOR (v:SurveyVariableNode)\n",
    "REQUIRE (v.SurveyGroupID, v.VariableName) IS UNIQUE;\n",
    "\n",
    "```\n",
    "- Running these constraints in Neo4j’s browser or via a session before loading can significantly speed up merges.\n",
    "\n",
    "**Assumptions**:\n",
    "- Each chunk CSV has at least SurveyID, GroupName, VariableName (or Variable Name) columns.\n",
    "- dditional properties like Universe, Concept, MeasurementUnit may be included and will be set on :SurveyVariableNode."
   ]
  },
  {
   "cell_type": "code",
   "execution_count": 20,
   "id": "1c0f63cc-0550-4ae2-8370-3aad546d82cc",
   "metadata": {},
   "outputs": [
    {
     "name": "stderr",
     "output_type": "stream",
     "text": [
      "Loading ../data/data_extraction/GroupNodesWithVariables/Processed_GroupNode_chun\n"
     ]
    },
    {
     "name": "stdout",
     "output_type": "stream",
     "text": [
      "Finished loading ../data/data_extraction/GroupNodesWithVariables/Processed_GroupNode_chunk_000.csv\n"
     ]
    },
    {
     "name": "stderr",
     "output_type": "stream",
     "text": [
      "Loading ../data/data_extraction/GroupNodesWithVariables/Processed_GroupNode_chun\n"
     ]
    },
    {
     "name": "stdout",
     "output_type": "stream",
     "text": [
      "Finished loading ../data/data_extraction/GroupNodesWithVariables/Processed_GroupNode_chunk_001.csv\n"
     ]
    },
    {
     "name": "stderr",
     "output_type": "stream",
     "text": [
      "Loading ../data/data_extraction/GroupNodesWithVariables/Processed_GroupNode_chun\n"
     ]
    },
    {
     "name": "stdout",
     "output_type": "stream",
     "text": [
      "Finished loading ../data/data_extraction/GroupNodesWithVariables/Processed_GroupNode_chunk_002.csv\n"
     ]
    },
    {
     "name": "stderr",
     "output_type": "stream",
     "text": [
      "Loading ../data/data_extraction/GroupNodesWithVariables/Processed_GroupNode_chun\n"
     ]
    },
    {
     "name": "stdout",
     "output_type": "stream",
     "text": [
      "Finished loading ../data/data_extraction/GroupNodesWithVariables/Processed_GroupNode_chunk_003.csv\n"
     ]
    },
    {
     "name": "stderr",
     "output_type": "stream",
     "text": [
      "Loading ../data/data_extraction/GroupNodesWithVariables/Processed_GroupNode_chun\n"
     ]
    },
    {
     "name": "stdout",
     "output_type": "stream",
     "text": [
      "Finished loading ../data/data_extraction/GroupNodesWithVariables/Processed_GroupNode_chunk_004.csv\n"
     ]
    },
    {
     "name": "stderr",
     "output_type": "stream",
     "text": [
      "Loading ../data/data_extraction/GroupNodesWithVariables/Processed_GroupNode_chun\n"
     ]
    },
    {
     "name": "stdout",
     "output_type": "stream",
     "text": [
      "Finished loading ../data/data_extraction/GroupNodesWithVariables/Processed_GroupNode_chunk_005.csv\n"
     ]
    },
    {
     "name": "stderr",
     "output_type": "stream",
     "text": [
      "Loading ../data/data_extraction/GroupNodesWithVariables/Processed_GroupNode_chun\n"
     ]
    },
    {
     "name": "stdout",
     "output_type": "stream",
     "text": [
      "Finished loading ../data/data_extraction/GroupNodesWithVariables/Processed_GroupNode_chunk_006.csv\n"
     ]
    },
    {
     "name": "stderr",
     "output_type": "stream",
     "text": [
      "Loading ../data/data_extraction/GroupNodesWithVariables/Processed_GroupNode_chun\n"
     ]
    },
    {
     "name": "stdout",
     "output_type": "stream",
     "text": [
      "Finished loading ../data/data_extraction/GroupNodesWithVariables/Processed_GroupNode_chunk_007.csv\n"
     ]
    },
    {
     "name": "stderr",
     "output_type": "stream",
     "text": [
      "Loading ../data/data_extraction/GroupNodesWithVariables/Processed_GroupNode_chun\n"
     ]
    },
    {
     "name": "stdout",
     "output_type": "stream",
     "text": [
      "Finished loading ../data/data_extraction/GroupNodesWithVariables/Processed_GroupNode_chunk_008.csv\n"
     ]
    },
    {
     "name": "stderr",
     "output_type": "stream",
     "text": [
      "Loading ../data/data_extraction/GroupNodesWithVariables/Processed_GroupNode_chun\n"
     ]
    },
    {
     "name": "stdout",
     "output_type": "stream",
     "text": [
      "Finished loading ../data/data_extraction/GroupNodesWithVariables/Processed_GroupNode_chunk_009.csv\n"
     ]
    },
    {
     "name": "stderr",
     "output_type": "stream",
     "text": [
      "Loading ../data/data_extraction/GroupNodesWithVariables/Processed_GroupNode_chun\n"
     ]
    },
    {
     "name": "stdout",
     "output_type": "stream",
     "text": [
      "Finished loading ../data/data_extraction/GroupNodesWithVariables/Processed_GroupNode_chunk_010.csv\n"
     ]
    },
    {
     "name": "stderr",
     "output_type": "stream",
     "text": [
      "Loading ../data/data_extraction/GroupNodesWithVariables/Processed_GroupNode_chun\n"
     ]
    },
    {
     "name": "stdout",
     "output_type": "stream",
     "text": [
      "Finished loading ../data/data_extraction/GroupNodesWithVariables/Processed_GroupNode_chunk_011.csv\n"
     ]
    },
    {
     "name": "stderr",
     "output_type": "stream",
     "text": [
      "Loading ../data/data_extraction/GroupNodesWithVariables/Processed_GroupNode_chun\n"
     ]
    },
    {
     "name": "stdout",
     "output_type": "stream",
     "text": [
      "Finished loading ../data/data_extraction/GroupNodesWithVariables/Processed_GroupNode_chunk_012.csv\n"
     ]
    },
    {
     "name": "stderr",
     "output_type": "stream",
     "text": [
      "Loading ../data/data_extraction/GroupNodesWithVariables/Processed_GroupNode_chun\n"
     ]
    },
    {
     "name": "stdout",
     "output_type": "stream",
     "text": [
      "Finished loading ../data/data_extraction/GroupNodesWithVariables/Processed_GroupNode_chunk_013.csv\n"
     ]
    },
    {
     "name": "stderr",
     "output_type": "stream",
     "text": [
      "Loading ../data/data_extraction/GroupNodesWithVariables/Processed_GroupNode_chun\n"
     ]
    },
    {
     "name": "stdout",
     "output_type": "stream",
     "text": [
      "Finished loading ../data/data_extraction/GroupNodesWithVariables/Processed_GroupNode_chunk_014.csv\n"
     ]
    },
    {
     "name": "stderr",
     "output_type": "stream",
     "text": [
      "Loading ../data/data_extraction/GroupNodesWithVariables/Processed_GroupNode_chun\n"
     ]
    },
    {
     "name": "stdout",
     "output_type": "stream",
     "text": [
      "Finished loading ../data/data_extraction/GroupNodesWithVariables/Processed_GroupNode_chunk_015.csv\n"
     ]
    },
    {
     "name": "stderr",
     "output_type": "stream",
     "text": [
      "Loading ../data/data_extraction/GroupNodesWithVariables/Processed_GroupNode_chun\n"
     ]
    },
    {
     "name": "stdout",
     "output_type": "stream",
     "text": [
      "Finished loading ../data/data_extraction/GroupNodesWithVariables/Processed_GroupNode_chunk_016.csv\n"
     ]
    },
    {
     "name": "stderr",
     "output_type": "stream",
     "text": [
      "Loading ../data/data_extraction/GroupNodesWithVariables/Processed_GroupNode_chun\n"
     ]
    },
    {
     "name": "stdout",
     "output_type": "stream",
     "text": [
      "Finished loading ../data/data_extraction/GroupNodesWithVariables/Processed_GroupNode_chunk_017.csv\n"
     ]
    },
    {
     "name": "stderr",
     "output_type": "stream",
     "text": [
      "Loading ../data/data_extraction/GroupNodesWithVariables/Processed_GroupNode_chun\n"
     ]
    },
    {
     "name": "stdout",
     "output_type": "stream",
     "text": [
      "Finished loading ../data/data_extraction/GroupNodesWithVariables/Processed_GroupNode_chunk_018.csv\n"
     ]
    },
    {
     "name": "stderr",
     "output_type": "stream",
     "text": [
      "Loading ../data/data_extraction/GroupNodesWithVariables/Processed_GroupNode_chun\n"
     ]
    },
    {
     "name": "stdout",
     "output_type": "stream",
     "text": [
      "Finished loading ../data/data_extraction/GroupNodesWithVariables/Processed_GroupNode_chunk_019.csv\n"
     ]
    },
    {
     "name": "stderr",
     "output_type": "stream",
     "text": [
      "Loading ../data/data_extraction/GroupNodesWithVariables/Processed_GroupNode_chun\n"
     ]
    },
    {
     "name": "stdout",
     "output_type": "stream",
     "text": [
      "Finished loading ../data/data_extraction/GroupNodesWithVariables/Processed_GroupNode_chunk_020.csv\n"
     ]
    },
    {
     "name": "stderr",
     "output_type": "stream",
     "text": [
      "Loading ../data/data_extraction/GroupNodesWithVariables/Processed_GroupNode_chun\n"
     ]
    },
    {
     "name": "stdout",
     "output_type": "stream",
     "text": [
      "Finished loading ../data/data_extraction/GroupNodesWithVariables/Processed_GroupNode_chunk_021.csv\n"
     ]
    },
    {
     "name": "stderr",
     "output_type": "stream",
     "text": [
      "Loading ../data/data_extraction/GroupNodesWithVariables/Processed_GroupNode_chun\n"
     ]
    },
    {
     "name": "stdout",
     "output_type": "stream",
     "text": [
      "Finished loading ../data/data_extraction/GroupNodesWithVariables/Processed_GroupNode_chunk_022.csv\n"
     ]
    },
    {
     "name": "stderr",
     "output_type": "stream",
     "text": [
      "Loading ../data/data_extraction/GroupNodesWithVariables/Processed_GroupNode_chun\n"
     ]
    },
    {
     "name": "stdout",
     "output_type": "stream",
     "text": [
      "Finished loading ../data/data_extraction/GroupNodesWithVariables/Processed_GroupNode_chunk_023.csv\n"
     ]
    },
    {
     "name": "stderr",
     "output_type": "stream",
     "text": [
      "Loading ../data/data_extraction/GroupNodesWithVariables/Processed_GroupNode_chun\n"
     ]
    },
    {
     "name": "stdout",
     "output_type": "stream",
     "text": [
      "Finished loading ../data/data_extraction/GroupNodesWithVariables/Processed_GroupNode_chunk_024.csv\n"
     ]
    },
    {
     "name": "stderr",
     "output_type": "stream",
     "text": [
      "Loading ../data/data_extraction/GroupNodesWithVariables/Processed_GroupNode_chun\n"
     ]
    },
    {
     "name": "stdout",
     "output_type": "stream",
     "text": [
      "Finished loading ../data/data_extraction/GroupNodesWithVariables/Processed_GroupNode_chunk_025.csv\n"
     ]
    },
    {
     "name": "stderr",
     "output_type": "stream",
     "text": [
      "Loading ../data/data_extraction/GroupNodesWithVariables/Processed_GroupNode_chun\n"
     ]
    },
    {
     "name": "stdout",
     "output_type": "stream",
     "text": [
      "Finished loading ../data/data_extraction/GroupNodesWithVariables/Processed_GroupNode_chunk_026.csv\n"
     ]
    },
    {
     "name": "stderr",
     "output_type": "stream",
     "text": [
      "Loading ../data/data_extraction/GroupNodesWithVariables/Processed_GroupNode_chun\n"
     ]
    },
    {
     "name": "stdout",
     "output_type": "stream",
     "text": [
      "Finished loading ../data/data_extraction/GroupNodesWithVariables/Processed_GroupNode_chunk_027.csv\n"
     ]
    },
    {
     "name": "stderr",
     "output_type": "stream",
     "text": [
      "Loading ../data/data_extraction/GroupNodesWithVariables/Processed_GroupNode_chun\n"
     ]
    },
    {
     "name": "stdout",
     "output_type": "stream",
     "text": [
      "Finished loading ../data/data_extraction/GroupNodesWithVariables/Processed_GroupNode_chunk_028.csv\n"
     ]
    },
    {
     "name": "stderr",
     "output_type": "stream",
     "text": [
      "Loading ../data/data_extraction/GroupNodesWithVariables/Processed_GroupNode_chun\n"
     ]
    },
    {
     "name": "stdout",
     "output_type": "stream",
     "text": [
      "Finished loading ../data/data_extraction/GroupNodesWithVariables/Processed_GroupNode_chunk_029.csv\n"
     ]
    },
    {
     "name": "stderr",
     "output_type": "stream",
     "text": [
      "Loading ../data/data_extraction/GroupNodesWithVariables/Processed_GroupNode_chun\n"
     ]
    },
    {
     "name": "stdout",
     "output_type": "stream",
     "text": [
      "Finished loading ../data/data_extraction/GroupNodesWithVariables/Processed_GroupNode_chunk_030.csv\n"
     ]
    },
    {
     "name": "stderr",
     "output_type": "stream",
     "text": [
      "Loading ../data/data_extraction/GroupNodesWithVariables/Processed_GroupNode_chun\n"
     ]
    },
    {
     "name": "stdout",
     "output_type": "stream",
     "text": [
      "Finished loading ../data/data_extraction/GroupNodesWithVariables/Processed_GroupNode_chunk_031.csv\n"
     ]
    },
    {
     "name": "stderr",
     "output_type": "stream",
     "text": [
      "Loading ../data/data_extraction/GroupNodesWithVariables/Processed_GroupNode_chun\n"
     ]
    },
    {
     "name": "stdout",
     "output_type": "stream",
     "text": [
      "Finished loading ../data/data_extraction/GroupNodesWithVariables/Processed_GroupNode_chunk_032.csv\n"
     ]
    },
    {
     "name": "stderr",
     "output_type": "stream",
     "text": [
      "Loading ../data/data_extraction/GroupNodesWithVariables/Processed_GroupNode_chun\n"
     ]
    },
    {
     "name": "stdout",
     "output_type": "stream",
     "text": [
      "Finished loading ../data/data_extraction/GroupNodesWithVariables/Processed_GroupNode_chunk_033.csv\n"
     ]
    },
    {
     "name": "stderr",
     "output_type": "stream",
     "text": [
      "Loading ../data/data_extraction/GroupNodesWithVariables/Processed_GroupNode_chun\n"
     ]
    },
    {
     "name": "stdout",
     "output_type": "stream",
     "text": [
      "Finished loading ../data/data_extraction/GroupNodesWithVariables/Processed_GroupNode_chunk_034.csv\n"
     ]
    },
    {
     "name": "stderr",
     "output_type": "stream",
     "text": [
      "Loading ../data/data_extraction/GroupNodesWithVariables/Processed_GroupNode_chun\n"
     ]
    },
    {
     "name": "stdout",
     "output_type": "stream",
     "text": [
      "Finished loading ../data/data_extraction/GroupNodesWithVariables/Processed_GroupNode_chunk_035.csv\n"
     ]
    },
    {
     "name": "stderr",
     "output_type": "stream",
     "text": [
      "/var/folders/s1/yqb3d76d7053f7dyy9fwtkzw0000gp/T/ipykernel_4108/1732461941.py:26: DtypeWarning: Columns (6) have mixed types. Specify dtype option on import or set low_memory=False.\n",
      "  df_chunk = pd.read_csv(chunk_file)\n",
      "Loading ../data/data_extraction/GroupNodesWithVariables/Processed_GroupNode_chun\n"
     ]
    },
    {
     "name": "stdout",
     "output_type": "stream",
     "text": [
      "Finished loading ../data/data_extraction/GroupNodesWithVariables/Processed_GroupNode_chunk_036.csv\n"
     ]
    },
    {
     "name": "stderr",
     "output_type": "stream",
     "text": [
      "Loading ../data/data_extraction/GroupNodesWithVariables/Processed_GroupNode_chun\n"
     ]
    },
    {
     "name": "stdout",
     "output_type": "stream",
     "text": [
      "Finished loading ../data/data_extraction/GroupNodesWithVariables/Processed_GroupNode_chunk_037.csv\n"
     ]
    },
    {
     "name": "stderr",
     "output_type": "stream",
     "text": [
      "Loading ../data/data_extraction/GroupNodesWithVariables/Processed_GroupNode_chun\n"
     ]
    },
    {
     "name": "stdout",
     "output_type": "stream",
     "text": [
      "Finished loading ../data/data_extraction/GroupNodesWithVariables/Processed_GroupNode_chunk_038.csv\n"
     ]
    },
    {
     "name": "stderr",
     "output_type": "stream",
     "text": [
      "Loading ../data/data_extraction/GroupNodesWithVariables/Processed_GroupNode_chun\n"
     ]
    },
    {
     "name": "stdout",
     "output_type": "stream",
     "text": [
      "Finished loading ../data/data_extraction/GroupNodesWithVariables/Processed_GroupNode_chunk_039.csv\n"
     ]
    },
    {
     "name": "stderr",
     "output_type": "stream",
     "text": [
      "Loading ../data/data_extraction/GroupNodesWithVariables/Processed_GroupNode_chun\n"
     ]
    },
    {
     "name": "stdout",
     "output_type": "stream",
     "text": [
      "Finished loading ../data/data_extraction/GroupNodesWithVariables/Processed_GroupNode_chunk_040.csv\n"
     ]
    },
    {
     "name": "stderr",
     "output_type": "stream",
     "text": [
      "Loading ../data/data_extraction/GroupNodesWithVariables/Processed_GroupNode_chun\n"
     ]
    },
    {
     "name": "stdout",
     "output_type": "stream",
     "text": [
      "Finished loading ../data/data_extraction/GroupNodesWithVariables/Processed_GroupNode_chunk_041.csv\n"
     ]
    },
    {
     "name": "stderr",
     "output_type": "stream",
     "text": [
      "Loading ../data/data_extraction/GroupNodesWithVariables/Processed_GroupNode_chun\n"
     ]
    },
    {
     "name": "stdout",
     "output_type": "stream",
     "text": [
      "Finished loading ../data/data_extraction/GroupNodesWithVariables/Processed_GroupNode_chunk_042.csv\n"
     ]
    },
    {
     "name": "stderr",
     "output_type": "stream",
     "text": [
      "Loading ../data/data_extraction/GroupNodesWithVariables/Processed_GroupNode_chun\n"
     ]
    },
    {
     "name": "stdout",
     "output_type": "stream",
     "text": [
      "Finished loading ../data/data_extraction/GroupNodesWithVariables/Processed_GroupNode_chunk_043.csv\n"
     ]
    },
    {
     "name": "stderr",
     "output_type": "stream",
     "text": [
      "Loading ../data/data_extraction/GroupNodesWithVariables/Processed_GroupNode_chun\n"
     ]
    },
    {
     "name": "stdout",
     "output_type": "stream",
     "text": [
      "Finished loading ../data/data_extraction/GroupNodesWithVariables/Processed_GroupNode_chunk_044.csv\n"
     ]
    },
    {
     "name": "stderr",
     "output_type": "stream",
     "text": [
      "Loading ../data/data_extraction/GroupNodesWithVariables/Processed_GroupNode_chun\n"
     ]
    },
    {
     "name": "stdout",
     "output_type": "stream",
     "text": [
      "Finished loading ../data/data_extraction/GroupNodesWithVariables/Processed_GroupNode_chunk_045.csv\n"
     ]
    },
    {
     "name": "stderr",
     "output_type": "stream",
     "text": [
      "Loading ../data/data_extraction/GroupNodesWithVariables/Processed_GroupNode_chun\n"
     ]
    },
    {
     "name": "stdout",
     "output_type": "stream",
     "text": [
      "Finished loading ../data/data_extraction/GroupNodesWithVariables/Processed_GroupNode_chunk_046.csv\n"
     ]
    },
    {
     "name": "stderr",
     "output_type": "stream",
     "text": [
      "Loading ../data/data_extraction/GroupNodesWithVariables/Processed_GroupNode_chun\n"
     ]
    },
    {
     "name": "stdout",
     "output_type": "stream",
     "text": [
      "Finished loading ../data/data_extraction/GroupNodesWithVariables/Processed_GroupNode_chunk_047.csv\n"
     ]
    },
    {
     "name": "stderr",
     "output_type": "stream",
     "text": [
      "Loading ../data/data_extraction/GroupNodesWithVariables/Processed_GroupNode_chun\n"
     ]
    },
    {
     "name": "stdout",
     "output_type": "stream",
     "text": [
      "Finished loading ../data/data_extraction/GroupNodesWithVariables/Processed_GroupNode_chunk_048.csv\n"
     ]
    },
    {
     "name": "stderr",
     "output_type": "stream",
     "text": [
      "Loading ../data/data_extraction/GroupNodesWithVariables/Processed_GroupNode_chun\n"
     ]
    },
    {
     "name": "stdout",
     "output_type": "stream",
     "text": [
      "Finished loading ../data/data_extraction/GroupNodesWithVariables/Processed_GroupNode_chunk_049.csv\n"
     ]
    },
    {
     "name": "stderr",
     "output_type": "stream",
     "text": [
      "Loading ../data/data_extraction/GroupNodesWithVariables/Processed_GroupNode_chun\n"
     ]
    },
    {
     "name": "stdout",
     "output_type": "stream",
     "text": [
      "Finished loading ../data/data_extraction/GroupNodesWithVariables/Processed_GroupNode_chunk_050.csv\n"
     ]
    },
    {
     "name": "stderr",
     "output_type": "stream",
     "text": [
      "Loading ../data/data_extraction/GroupNodesWithVariables/Processed_GroupNode_chun\n"
     ]
    },
    {
     "name": "stdout",
     "output_type": "stream",
     "text": [
      "Finished loading ../data/data_extraction/GroupNodesWithVariables/Processed_GroupNode_chunk_051.csv\n"
     ]
    },
    {
     "name": "stderr",
     "output_type": "stream",
     "text": [
      "Loading ../data/data_extraction/GroupNodesWithVariables/Processed_GroupNode_chun\n"
     ]
    },
    {
     "name": "stdout",
     "output_type": "stream",
     "text": [
      "Finished loading ../data/data_extraction/GroupNodesWithVariables/Processed_GroupNode_chunk_052.csv\n"
     ]
    },
    {
     "name": "stderr",
     "output_type": "stream",
     "text": [
      "Loading ../data/data_extraction/GroupNodesWithVariables/Processed_GroupNode_chun\n"
     ]
    },
    {
     "name": "stdout",
     "output_type": "stream",
     "text": [
      "Finished loading ../data/data_extraction/GroupNodesWithVariables/Processed_GroupNode_chunk_053.csv\n"
     ]
    },
    {
     "name": "stderr",
     "output_type": "stream",
     "text": [
      "Loading ../data/data_extraction/GroupNodesWithVariables/Processed_GroupNode_chun\n"
     ]
    },
    {
     "name": "stdout",
     "output_type": "stream",
     "text": [
      "Finished loading ../data/data_extraction/GroupNodesWithVariables/Processed_GroupNode_chunk_054.csv\n"
     ]
    },
    {
     "name": "stderr",
     "output_type": "stream",
     "text": [
      "Loading ../data/data_extraction/GroupNodesWithVariables/Processed_GroupNode_chun\n"
     ]
    },
    {
     "name": "stdout",
     "output_type": "stream",
     "text": [
      "Finished loading ../data/data_extraction/GroupNodesWithVariables/Processed_GroupNode_chunk_055.csv\n"
     ]
    },
    {
     "name": "stderr",
     "output_type": "stream",
     "text": [
      "Loading ../data/data_extraction/GroupNodesWithVariables/Processed_GroupNode_chun\n"
     ]
    },
    {
     "name": "stdout",
     "output_type": "stream",
     "text": [
      "Finished loading ../data/data_extraction/GroupNodesWithVariables/Processed_GroupNode_chunk_056.csv\n"
     ]
    },
    {
     "name": "stderr",
     "output_type": "stream",
     "text": [
      "Loading ../data/data_extraction/GroupNodesWithVariables/Processed_GroupNode_chun\n"
     ]
    },
    {
     "name": "stdout",
     "output_type": "stream",
     "text": [
      "Finished loading ../data/data_extraction/GroupNodesWithVariables/Processed_GroupNode_chunk_057.csv\n"
     ]
    },
    {
     "name": "stderr",
     "output_type": "stream",
     "text": [
      "Loading ../data/data_extraction/GroupNodesWithVariables/Processed_GroupNode_chun\n"
     ]
    },
    {
     "name": "stdout",
     "output_type": "stream",
     "text": [
      "Finished loading ../data/data_extraction/GroupNodesWithVariables/Processed_GroupNode_chunk_058.csv\n"
     ]
    },
    {
     "name": "stderr",
     "output_type": "stream",
     "text": [
      "Loading ../data/data_extraction/GroupNodesWithVariables/Processed_GroupNode_chun\n"
     ]
    },
    {
     "name": "stdout",
     "output_type": "stream",
     "text": [
      "Finished loading ../data/data_extraction/GroupNodesWithVariables/Processed_GroupNode_chunk_059.csv\n"
     ]
    },
    {
     "name": "stderr",
     "output_type": "stream",
     "text": [
      "Loading ../data/data_extraction/GroupNodesWithVariables/Processed_GroupNode_chun\n"
     ]
    },
    {
     "name": "stdout",
     "output_type": "stream",
     "text": [
      "Finished loading ../data/data_extraction/GroupNodesWithVariables/Processed_GroupNode_chunk_060.csv\n"
     ]
    },
    {
     "name": "stderr",
     "output_type": "stream",
     "text": [
      "Loading ../data/data_extraction/GroupNodesWithVariables/Processed_GroupNode_chun\n"
     ]
    },
    {
     "name": "stdout",
     "output_type": "stream",
     "text": [
      "Finished loading ../data/data_extraction/GroupNodesWithVariables/Processed_GroupNode_chunk_061.csv\n"
     ]
    },
    {
     "name": "stderr",
     "output_type": "stream",
     "text": [
      "Loading ../data/data_extraction/GroupNodesWithVariables/Processed_GroupNode_chun\n"
     ]
    },
    {
     "name": "stdout",
     "output_type": "stream",
     "text": [
      "Finished loading ../data/data_extraction/GroupNodesWithVariables/Processed_GroupNode_chunk_062.csv\n"
     ]
    },
    {
     "name": "stderr",
     "output_type": "stream",
     "text": [
      "Loading ../data/data_extraction/GroupNodesWithVariables/Processed_GroupNode_chun\n"
     ]
    },
    {
     "name": "stdout",
     "output_type": "stream",
     "text": [
      "Finished loading ../data/data_extraction/GroupNodesWithVariables/Processed_GroupNode_chunk_063.csv\n"
     ]
    },
    {
     "name": "stderr",
     "output_type": "stream",
     "text": [
      "Loading ../data/data_extraction/GroupNodesWithVariables/Processed_GroupNode_chun\n"
     ]
    },
    {
     "name": "stdout",
     "output_type": "stream",
     "text": [
      "Finished loading ../data/data_extraction/GroupNodesWithVariables/Processed_GroupNode_chunk_064.csv\n"
     ]
    },
    {
     "name": "stderr",
     "output_type": "stream",
     "text": [
      "Loading ../data/data_extraction/GroupNodesWithVariables/Processed_GroupNode_chun\n"
     ]
    },
    {
     "name": "stdout",
     "output_type": "stream",
     "text": [
      "Finished loading ../data/data_extraction/GroupNodesWithVariables/Processed_GroupNode_chunk_065.csv\n"
     ]
    },
    {
     "name": "stderr",
     "output_type": "stream",
     "text": [
      "Loading ../data/data_extraction/GroupNodesWithVariables/Processed_GroupNode_chun\n"
     ]
    },
    {
     "name": "stdout",
     "output_type": "stream",
     "text": [
      "Finished loading ../data/data_extraction/GroupNodesWithVariables/Processed_GroupNode_chunk_066.csv\n"
     ]
    },
    {
     "name": "stderr",
     "output_type": "stream",
     "text": [
      "Loading ../data/data_extraction/GroupNodesWithVariables/Processed_GroupNode_chun\n"
     ]
    },
    {
     "name": "stdout",
     "output_type": "stream",
     "text": [
      "Finished loading ../data/data_extraction/GroupNodesWithVariables/Processed_GroupNode_chunk_067.csv\n"
     ]
    },
    {
     "name": "stderr",
     "output_type": "stream",
     "text": [
      "Loading ../data/data_extraction/GroupNodesWithVariables/Processed_GroupNode_chun\n"
     ]
    },
    {
     "name": "stdout",
     "output_type": "stream",
     "text": [
      "Finished loading ../data/data_extraction/GroupNodesWithVariables/Processed_GroupNode_chunk_068.csv\n"
     ]
    },
    {
     "name": "stderr",
     "output_type": "stream",
     "text": [
      "Loading ../data/data_extraction/GroupNodesWithVariables/Processed_GroupNode_chun\n"
     ]
    },
    {
     "name": "stdout",
     "output_type": "stream",
     "text": [
      "Finished loading ../data/data_extraction/GroupNodesWithVariables/Processed_GroupNode_chunk_069.csv\n"
     ]
    },
    {
     "name": "stderr",
     "output_type": "stream",
     "text": [
      "Loading ../data/data_extraction/GroupNodesWithVariables/Processed_GroupNode_chun\n"
     ]
    },
    {
     "name": "stdout",
     "output_type": "stream",
     "text": [
      "Finished loading ../data/data_extraction/GroupNodesWithVariables/Processed_GroupNode_chunk_070.csv\n"
     ]
    },
    {
     "name": "stderr",
     "output_type": "stream",
     "text": [
      "Loading ../data/data_extraction/GroupNodesWithVariables/Processed_GroupNode_chun\n"
     ]
    },
    {
     "name": "stdout",
     "output_type": "stream",
     "text": [
      "Finished loading ../data/data_extraction/GroupNodesWithVariables/Processed_GroupNode_chunk_071.csv\n"
     ]
    },
    {
     "name": "stderr",
     "output_type": "stream",
     "text": [
      "Loading ../data/data_extraction/GroupNodesWithVariables/Processed_GroupNode_chun\n"
     ]
    },
    {
     "name": "stdout",
     "output_type": "stream",
     "text": [
      "Finished loading ../data/data_extraction/GroupNodesWithVariables/Processed_GroupNode_chunk_072.csv\n"
     ]
    },
    {
     "name": "stderr",
     "output_type": "stream",
     "text": [
      "Loading ../data/data_extraction/GroupNodesWithVariables/Processed_GroupNode_chun\n"
     ]
    },
    {
     "name": "stdout",
     "output_type": "stream",
     "text": [
      "Finished loading ../data/data_extraction/GroupNodesWithVariables/Processed_GroupNode_chunk_073.csv\n"
     ]
    },
    {
     "name": "stderr",
     "output_type": "stream",
     "text": [
      "Loading ../data/data_extraction/GroupNodesWithVariables/Processed_GroupNode_chun\n"
     ]
    },
    {
     "name": "stdout",
     "output_type": "stream",
     "text": [
      "Finished loading ../data/data_extraction/GroupNodesWithVariables/Processed_GroupNode_chunk_074.csv\n"
     ]
    },
    {
     "name": "stderr",
     "output_type": "stream",
     "text": [
      "Loading ../data/data_extraction/GroupNodesWithVariables/Processed_GroupNode_chun\n"
     ]
    },
    {
     "name": "stdout",
     "output_type": "stream",
     "text": [
      "Finished loading ../data/data_extraction/GroupNodesWithVariables/Processed_GroupNode_chunk_075.csv\n"
     ]
    },
    {
     "name": "stderr",
     "output_type": "stream",
     "text": [
      "Loading ../data/data_extraction/GroupNodesWithVariables/Processed_GroupNode_chun\n"
     ]
    },
    {
     "name": "stdout",
     "output_type": "stream",
     "text": [
      "Finished loading ../data/data_extraction/GroupNodesWithVariables/Processed_GroupNode_chunk_076.csv\n"
     ]
    },
    {
     "name": "stderr",
     "output_type": "stream",
     "text": [
      "Loading ../data/data_extraction/GroupNodesWithVariables/Processed_GroupNode_chun\n"
     ]
    },
    {
     "name": "stdout",
     "output_type": "stream",
     "text": [
      "Finished loading ../data/data_extraction/GroupNodesWithVariables/Processed_GroupNode_chunk_077.csv\n"
     ]
    },
    {
     "name": "stderr",
     "output_type": "stream",
     "text": [
      "Loading ../data/data_extraction/GroupNodesWithVariables/Processed_GroupNode_chun\n"
     ]
    },
    {
     "name": "stdout",
     "output_type": "stream",
     "text": [
      "Finished loading ../data/data_extraction/GroupNodesWithVariables/Processed_GroupNode_chunk_078.csv\n"
     ]
    },
    {
     "name": "stderr",
     "output_type": "stream",
     "text": [
      "Loading ../data/data_extraction/GroupNodesWithVariables/Processed_GroupNode_chun\n"
     ]
    },
    {
     "name": "stdout",
     "output_type": "stream",
     "text": [
      "Finished loading ../data/data_extraction/GroupNodesWithVariables/Processed_GroupNode_chunk_079.csv\n"
     ]
    },
    {
     "name": "stderr",
     "output_type": "stream",
     "text": [
      "Loading ../data/data_extraction/GroupNodesWithVariables/Processed_GroupNode_chun\n"
     ]
    },
    {
     "name": "stdout",
     "output_type": "stream",
     "text": [
      "Finished loading ../data/data_extraction/GroupNodesWithVariables/Processed_GroupNode_chunk_080.csv\n"
     ]
    },
    {
     "name": "stderr",
     "output_type": "stream",
     "text": [
      "Loading ../data/data_extraction/GroupNodesWithVariables/Processed_GroupNode_chun\n"
     ]
    },
    {
     "name": "stdout",
     "output_type": "stream",
     "text": [
      "Finished loading ../data/data_extraction/GroupNodesWithVariables/Processed_GroupNode_chunk_081.csv\n"
     ]
    },
    {
     "name": "stderr",
     "output_type": "stream",
     "text": [
      "Loading ../data/data_extraction/GroupNodesWithVariables/Processed_GroupNode_chun\n"
     ]
    },
    {
     "name": "stdout",
     "output_type": "stream",
     "text": [
      "Finished loading ../data/data_extraction/GroupNodesWithVariables/Processed_GroupNode_chunk_082.csv\n"
     ]
    },
    {
     "name": "stderr",
     "output_type": "stream",
     "text": [
      "Loading ../data/data_extraction/GroupNodesWithVariables/Processed_GroupNode_chun\n"
     ]
    },
    {
     "name": "stdout",
     "output_type": "stream",
     "text": [
      "Finished loading ../data/data_extraction/GroupNodesWithVariables/Processed_GroupNode_chunk_083.csv\n"
     ]
    },
    {
     "name": "stderr",
     "output_type": "stream",
     "text": [
      "Loading ../data/data_extraction/GroupNodesWithVariables/Processed_GroupNode_chun\n"
     ]
    },
    {
     "name": "stdout",
     "output_type": "stream",
     "text": [
      "Finished loading ../data/data_extraction/GroupNodesWithVariables/Processed_GroupNode_chunk_084.csv\n"
     ]
    },
    {
     "name": "stderr",
     "output_type": "stream",
     "text": [
      "Loading ../data/data_extraction/GroupNodesWithVariables/Processed_GroupNode_chun\n"
     ]
    },
    {
     "name": "stdout",
     "output_type": "stream",
     "text": [
      "Finished loading ../data/data_extraction/GroupNodesWithVariables/Processed_GroupNode_chunk_085.csv\n"
     ]
    },
    {
     "name": "stderr",
     "output_type": "stream",
     "text": [
      "Loading ../data/data_extraction/GroupNodesWithVariables/Processed_GroupNode_chun\n"
     ]
    },
    {
     "name": "stdout",
     "output_type": "stream",
     "text": [
      "Finished loading ../data/data_extraction/GroupNodesWithVariables/Processed_GroupNode_chunk_086.csv\n"
     ]
    },
    {
     "name": "stderr",
     "output_type": "stream",
     "text": [
      "Loading ../data/data_extraction/GroupNodesWithVariables/Processed_GroupNode_chun\n"
     ]
    },
    {
     "name": "stdout",
     "output_type": "stream",
     "text": [
      "Finished loading ../data/data_extraction/GroupNodesWithVariables/Processed_GroupNode_chunk_087.csv\n"
     ]
    },
    {
     "name": "stderr",
     "output_type": "stream",
     "text": [
      "Loading ../data/data_extraction/GroupNodesWithVariables/Processed_GroupNode_chun\n"
     ]
    },
    {
     "name": "stdout",
     "output_type": "stream",
     "text": [
      "Finished loading ../data/data_extraction/GroupNodesWithVariables/Processed_GroupNode_chunk_088.csv\n"
     ]
    },
    {
     "name": "stderr",
     "output_type": "stream",
     "text": [
      "Loading ../data/data_extraction/GroupNodesWithVariables/Processed_GroupNode_chun\n"
     ]
    },
    {
     "name": "stdout",
     "output_type": "stream",
     "text": [
      "Finished loading ../data/data_extraction/GroupNodesWithVariables/Processed_GroupNode_chunk_089.csv\n"
     ]
    },
    {
     "name": "stderr",
     "output_type": "stream",
     "text": [
      "Loading ../data/data_extraction/GroupNodesWithVariables/Processed_GroupNode_chun\n"
     ]
    },
    {
     "name": "stdout",
     "output_type": "stream",
     "text": [
      "Finished loading ../data/data_extraction/GroupNodesWithVariables/Processed_GroupNode_chunk_090.csv\n"
     ]
    },
    {
     "name": "stderr",
     "output_type": "stream",
     "text": [
      "Loading ../data/data_extraction/GroupNodesWithVariables/Processed_GroupNode_chun\n"
     ]
    },
    {
     "name": "stdout",
     "output_type": "stream",
     "text": [
      "Finished loading ../data/data_extraction/GroupNodesWithVariables/Processed_GroupNode_chunk_091.csv\n"
     ]
    },
    {
     "name": "stderr",
     "output_type": "stream",
     "text": [
      "Loading ../data/data_extraction/GroupNodesWithVariables/Processed_GroupNode_chun\n"
     ]
    },
    {
     "name": "stdout",
     "output_type": "stream",
     "text": [
      "Finished loading ../data/data_extraction/GroupNodesWithVariables/Processed_GroupNode_chunk_092.csv\n"
     ]
    },
    {
     "name": "stderr",
     "output_type": "stream",
     "text": [
      "Loading ../data/data_extraction/GroupNodesWithVariables/Processed_GroupNode_chun\n"
     ]
    },
    {
     "name": "stdout",
     "output_type": "stream",
     "text": [
      "Finished loading ../data/data_extraction/GroupNodesWithVariables/Processed_GroupNode_chunk_093.csv\n"
     ]
    },
    {
     "name": "stderr",
     "output_type": "stream",
     "text": [
      "Loading ../data/data_extraction/GroupNodesWithVariables/Processed_GroupNode_chun\n"
     ]
    },
    {
     "name": "stdout",
     "output_type": "stream",
     "text": [
      "Finished loading ../data/data_extraction/GroupNodesWithVariables/Processed_GroupNode_chunk_094.csv\n"
     ]
    },
    {
     "name": "stderr",
     "output_type": "stream",
     "text": [
      "Loading ../data/data_extraction/GroupNodesWithVariables/Processed_GroupNode_chun\n"
     ]
    },
    {
     "name": "stdout",
     "output_type": "stream",
     "text": [
      "Finished loading ../data/data_extraction/GroupNodesWithVariables/Processed_GroupNode_chunk_095.csv\n"
     ]
    },
    {
     "name": "stderr",
     "output_type": "stream",
     "text": [
      "Loading ../data/data_extraction/GroupNodesWithVariables/Processed_GroupNode_chun\n"
     ]
    },
    {
     "name": "stdout",
     "output_type": "stream",
     "text": [
      "Finished loading ../data/data_extraction/GroupNodesWithVariables/Processed_GroupNode_chunk_096.csv\n"
     ]
    },
    {
     "name": "stderr",
     "output_type": "stream",
     "text": [
      "Loading ../data/data_extraction/GroupNodesWithVariables/Processed_GroupNode_chun\n"
     ]
    },
    {
     "name": "stdout",
     "output_type": "stream",
     "text": [
      "Finished loading ../data/data_extraction/GroupNodesWithVariables/Processed_GroupNode_chunk_097.csv\n"
     ]
    },
    {
     "name": "stderr",
     "output_type": "stream",
     "text": [
      "Loading ../data/data_extraction/GroupNodesWithVariables/Processed_GroupNode_chun\n"
     ]
    },
    {
     "name": "stdout",
     "output_type": "stream",
     "text": [
      "Finished loading ../data/data_extraction/GroupNodesWithVariables/Processed_GroupNode_chunk_098.csv\n"
     ]
    },
    {
     "name": "stderr",
     "output_type": "stream",
     "text": [
      "Loading ../data/data_extraction/GroupNodesWithVariables/Processed_GroupNode_chun\n"
     ]
    },
    {
     "name": "stdout",
     "output_type": "stream",
     "text": [
      "Finished loading ../data/data_extraction/GroupNodesWithVariables/Processed_GroupNode_chunk_099.csv\n"
     ]
    },
    {
     "name": "stderr",
     "output_type": "stream",
     "text": [
      "Loading ../data/data_extraction/GroupNodesWithVariables/Processed_GroupNode_chun\n"
     ]
    },
    {
     "name": "stdout",
     "output_type": "stream",
     "text": [
      "Finished loading ../data/data_extraction/GroupNodesWithVariables/Processed_GroupNode_chunk_100.csv\n"
     ]
    },
    {
     "name": "stderr",
     "output_type": "stream",
     "text": [
      "Loading ../data/data_extraction/GroupNodesWithVariables/Processed_GroupNode_chun\n"
     ]
    },
    {
     "name": "stdout",
     "output_type": "stream",
     "text": [
      "Finished loading ../data/data_extraction/GroupNodesWithVariables/Processed_GroupNode_chunk_101.csv\n"
     ]
    },
    {
     "name": "stderr",
     "output_type": "stream",
     "text": [
      "Loading ../data/data_extraction/GroupNodesWithVariables/Processed_GroupNode_chun\n"
     ]
    },
    {
     "name": "stdout",
     "output_type": "stream",
     "text": [
      "Finished loading ../data/data_extraction/GroupNodesWithVariables/Processed_GroupNode_chunk_102.csv\n"
     ]
    },
    {
     "name": "stderr",
     "output_type": "stream",
     "text": [
      "Loading ../data/data_extraction/GroupNodesWithVariables/Processed_GroupNode_chun\n"
     ]
    },
    {
     "name": "stdout",
     "output_type": "stream",
     "text": [
      "Finished loading ../data/data_extraction/GroupNodesWithVariables/Processed_GroupNode_chunk_103.csv\n"
     ]
    },
    {
     "name": "stderr",
     "output_type": "stream",
     "text": [
      "Loading ../data/data_extraction/GroupNodesWithVariables/Processed_GroupNode_chun\n"
     ]
    },
    {
     "name": "stdout",
     "output_type": "stream",
     "text": [
      "Finished loading ../data/data_extraction/GroupNodesWithVariables/Processed_GroupNode_chunk_104.csv\n"
     ]
    },
    {
     "name": "stderr",
     "output_type": "stream",
     "text": [
      "Loading ../data/data_extraction/GroupNodesWithVariables/Processed_GroupNode_chun\n"
     ]
    },
    {
     "name": "stdout",
     "output_type": "stream",
     "text": [
      "Finished loading ../data/data_extraction/GroupNodesWithVariables/Processed_GroupNode_chunk_105.csv\n"
     ]
    },
    {
     "name": "stderr",
     "output_type": "stream",
     "text": [
      "Loading ../data/data_extraction/GroupNodesWithVariables/Processed_GroupNode_chun\n"
     ]
    },
    {
     "name": "stdout",
     "output_type": "stream",
     "text": [
      "Finished loading ../data/data_extraction/GroupNodesWithVariables/Processed_GroupNode_chunk_106.csv\n"
     ]
    },
    {
     "name": "stderr",
     "output_type": "stream",
     "text": [
      "Loading ../data/data_extraction/GroupNodesWithVariables/Processed_GroupNode_chun\n"
     ]
    },
    {
     "name": "stdout",
     "output_type": "stream",
     "text": [
      "Finished loading ../data/data_extraction/GroupNodesWithVariables/Processed_GroupNode_chunk_107.csv\n"
     ]
    },
    {
     "name": "stderr",
     "output_type": "stream",
     "text": [
      "Loading ../data/data_extraction/GroupNodesWithVariables/Processed_GroupNode_chun\n"
     ]
    },
    {
     "name": "stdout",
     "output_type": "stream",
     "text": [
      "Finished loading ../data/data_extraction/GroupNodesWithVariables/Processed_GroupNode_chunk_108.csv\n"
     ]
    },
    {
     "name": "stderr",
     "output_type": "stream",
     "text": [
      "Loading ../data/data_extraction/GroupNodesWithVariables/Processed_GroupNode_chun\n"
     ]
    },
    {
     "name": "stdout",
     "output_type": "stream",
     "text": [
      "Finished loading ../data/data_extraction/GroupNodesWithVariables/Processed_GroupNode_chunk_109.csv\n"
     ]
    },
    {
     "name": "stderr",
     "output_type": "stream",
     "text": [
      "Loading ../data/data_extraction/GroupNodesWithVariables/Processed_GroupNode_chun\n"
     ]
    },
    {
     "name": "stdout",
     "output_type": "stream",
     "text": [
      "Finished loading ../data/data_extraction/GroupNodesWithVariables/Processed_GroupNode_chunk_110.csv\n"
     ]
    },
    {
     "name": "stderr",
     "output_type": "stream",
     "text": [
      "Loading ../data/data_extraction/GroupNodesWithVariables/Processed_GroupNode_chun\n"
     ]
    },
    {
     "name": "stdout",
     "output_type": "stream",
     "text": [
      "Finished loading ../data/data_extraction/GroupNodesWithVariables/Processed_GroupNode_chunk_111.csv\n"
     ]
    },
    {
     "name": "stderr",
     "output_type": "stream",
     "text": [
      "Loading ../data/data_extraction/GroupNodesWithVariables/Processed_GroupNode_chun\n"
     ]
    },
    {
     "name": "stdout",
     "output_type": "stream",
     "text": [
      "Finished loading ../data/data_extraction/GroupNodesWithVariables/Processed_GroupNode_chunk_112.csv\n"
     ]
    },
    {
     "name": "stderr",
     "output_type": "stream",
     "text": [
      "Loading ../data/data_extraction/GroupNodesWithVariables/Processed_GroupNode_chun\n"
     ]
    },
    {
     "name": "stdout",
     "output_type": "stream",
     "text": [
      "Finished loading ../data/data_extraction/GroupNodesWithVariables/Processed_GroupNode_chunk_113.csv\n"
     ]
    },
    {
     "name": "stderr",
     "output_type": "stream",
     "text": [
      "Loading ../data/data_extraction/GroupNodesWithVariables/Processed_GroupNode_chun\n"
     ]
    },
    {
     "name": "stdout",
     "output_type": "stream",
     "text": [
      "Finished loading ../data/data_extraction/GroupNodesWithVariables/Processed_GroupNode_chunk_114.csv\n"
     ]
    },
    {
     "name": "stderr",
     "output_type": "stream",
     "text": [
      "Loading ../data/data_extraction/GroupNodesWithVariables/Processed_GroupNode_chun\n"
     ]
    },
    {
     "name": "stdout",
     "output_type": "stream",
     "text": [
      "Finished loading ../data/data_extraction/GroupNodesWithVariables/Processed_GroupNode_chunk_115.csv\n"
     ]
    },
    {
     "name": "stderr",
     "output_type": "stream",
     "text": [
      "Loading ../data/data_extraction/GroupNodesWithVariables/Processed_GroupNode_chun\n"
     ]
    },
    {
     "name": "stdout",
     "output_type": "stream",
     "text": [
      "Finished loading ../data/data_extraction/GroupNodesWithVariables/Processed_GroupNode_chunk_116.csv\n"
     ]
    },
    {
     "name": "stderr",
     "output_type": "stream",
     "text": [
      "Loading ../data/data_extraction/GroupNodesWithVariables/Processed_GroupNode_chun\n"
     ]
    },
    {
     "name": "stdout",
     "output_type": "stream",
     "text": [
      "Finished loading ../data/data_extraction/GroupNodesWithVariables/Processed_GroupNode_chunk_117.csv\n"
     ]
    },
    {
     "name": "stderr",
     "output_type": "stream",
     "text": [
      "Loading ../data/data_extraction/GroupNodesWithVariables/Processed_GroupNode_chun\n"
     ]
    },
    {
     "name": "stdout",
     "output_type": "stream",
     "text": [
      "Finished loading ../data/data_extraction/GroupNodesWithVariables/Processed_GroupNode_chunk_118.csv\n"
     ]
    },
    {
     "name": "stderr",
     "output_type": "stream",
     "text": [
      "Loading ../data/data_extraction/GroupNodesWithVariables/Processed_GroupNode_chun\n"
     ]
    },
    {
     "name": "stdout",
     "output_type": "stream",
     "text": [
      "Finished loading ../data/data_extraction/GroupNodesWithVariables/Processed_GroupNode_chunk_119.csv\n"
     ]
    },
    {
     "name": "stderr",
     "output_type": "stream",
     "text": [
      "Loading ../data/data_extraction/GroupNodesWithVariables/Processed_GroupNode_chun\n"
     ]
    },
    {
     "name": "stdout",
     "output_type": "stream",
     "text": [
      "Finished loading ../data/data_extraction/GroupNodesWithVariables/Processed_GroupNode_chunk_120.csv\n"
     ]
    },
    {
     "name": "stderr",
     "output_type": "stream",
     "text": [
      "Loading ../data/data_extraction/GroupNodesWithVariables/Processed_GroupNode_chun\n"
     ]
    },
    {
     "name": "stdout",
     "output_type": "stream",
     "text": [
      "Finished loading ../data/data_extraction/GroupNodesWithVariables/Processed_GroupNode_chunk_121.csv\n"
     ]
    },
    {
     "name": "stderr",
     "output_type": "stream",
     "text": [
      "Loading ../data/data_extraction/GroupNodesWithVariables/Processed_GroupNode_chun\n"
     ]
    },
    {
     "name": "stdout",
     "output_type": "stream",
     "text": [
      "Finished loading ../data/data_extraction/GroupNodesWithVariables/Processed_GroupNode_chunk_122.csv\n"
     ]
    },
    {
     "name": "stderr",
     "output_type": "stream",
     "text": [
      "Loading ../data/data_extraction/GroupNodesWithVariables/Processed_GroupNode_chun\n"
     ]
    },
    {
     "name": "stdout",
     "output_type": "stream",
     "text": [
      "Finished loading ../data/data_extraction/GroupNodesWithVariables/Processed_GroupNode_chunk_123.csv\n"
     ]
    },
    {
     "name": "stderr",
     "output_type": "stream",
     "text": [
      "Loading ../data/data_extraction/GroupNodesWithVariables/Processed_GroupNode_chun\n"
     ]
    },
    {
     "name": "stdout",
     "output_type": "stream",
     "text": [
      "Finished loading ../data/data_extraction/GroupNodesWithVariables/Processed_GroupNode_chunk_124.csv\n"
     ]
    },
    {
     "name": "stderr",
     "output_type": "stream",
     "text": [
      "Loading ../data/data_extraction/GroupNodesWithVariables/Processed_GroupNode_chun\n"
     ]
    },
    {
     "name": "stdout",
     "output_type": "stream",
     "text": [
      "Finished loading ../data/data_extraction/GroupNodesWithVariables/Processed_GroupNode_chunk_125.csv\n"
     ]
    },
    {
     "name": "stderr",
     "output_type": "stream",
     "text": [
      "Loading ../data/data_extraction/GroupNodesWithVariables/Processed_GroupNode_chun\n"
     ]
    },
    {
     "name": "stdout",
     "output_type": "stream",
     "text": [
      "Finished loading ../data/data_extraction/GroupNodesWithVariables/Processed_GroupNode_chunk_126.csv\n"
     ]
    },
    {
     "name": "stderr",
     "output_type": "stream",
     "text": [
      "Loading ../data/data_extraction/GroupNodesWithVariables/Processed_GroupNode_chun\n"
     ]
    },
    {
     "name": "stdout",
     "output_type": "stream",
     "text": [
      "Finished loading ../data/data_extraction/GroupNodesWithVariables/Processed_GroupNode_chunk_127.csv\n"
     ]
    },
    {
     "name": "stderr",
     "output_type": "stream",
     "text": [
      "Loading ../data/data_extraction/GroupNodesWithVariables/Processed_GroupNode_chun\n"
     ]
    },
    {
     "name": "stdout",
     "output_type": "stream",
     "text": [
      "Finished loading ../data/data_extraction/GroupNodesWithVariables/Processed_GroupNode_chunk_128.csv\n"
     ]
    },
    {
     "name": "stderr",
     "output_type": "stream",
     "text": [
      "Loading ../data/data_extraction/GroupNodesWithVariables/Processed_GroupNode_chun\n"
     ]
    },
    {
     "name": "stdout",
     "output_type": "stream",
     "text": [
      "Finished loading ../data/data_extraction/GroupNodesWithVariables/Processed_GroupNode_chunk_129.csv\n"
     ]
    },
    {
     "name": "stderr",
     "output_type": "stream",
     "text": [
      "Loading ../data/data_extraction/GroupNodesWithVariables/Processed_GroupNode_chun\n"
     ]
    },
    {
     "name": "stdout",
     "output_type": "stream",
     "text": [
      "Finished loading ../data/data_extraction/GroupNodesWithVariables/Processed_GroupNode_chunk_130.csv\n"
     ]
    },
    {
     "name": "stderr",
     "output_type": "stream",
     "text": [
      "Loading ../data/data_extraction/GroupNodesWithVariables/Processed_GroupNode_chun\n"
     ]
    },
    {
     "name": "stdout",
     "output_type": "stream",
     "text": [
      "Finished loading ../data/data_extraction/GroupNodesWithVariables/Processed_GroupNode_chunk_131.csv\n"
     ]
    },
    {
     "name": "stderr",
     "output_type": "stream",
     "text": [
      "Loading ../data/data_extraction/GroupNodesWithVariables/Processed_GroupNode_chun\n"
     ]
    },
    {
     "name": "stdout",
     "output_type": "stream",
     "text": [
      "Finished loading ../data/data_extraction/GroupNodesWithVariables/Processed_GroupNode_chunk_132.csv\n"
     ]
    },
    {
     "name": "stderr",
     "output_type": "stream",
     "text": [
      "Loading ../data/data_extraction/GroupNodesWithVariables/Processed_GroupNode_chun"
     ]
    },
    {
     "name": "stdout",
     "output_type": "stream",
     "text": [
      "Finished loading ../data/data_extraction/GroupNodesWithVariables/Processed_GroupNode_chunk_133.csv\n",
      "All group-variable chunks loaded successfully.\n"
     ]
    },
    {
     "name": "stderr",
     "output_type": "stream",
     "text": [
      "\n"
     ]
    }
   ],
   "source": [
    "import glob\n",
    "import pandas as pd\n",
    "from tqdm import tqdm\n",
    "from neo4j import GraphDatabase\n",
    "import os\n",
    "\n",
    "# Retrieve environment variables for Neo4j\n",
    "NEO4J_URI = os.getenv(\"NEO4J_URI\")\n",
    "NEO4J_USER = os.getenv(\"NEO4J_USER\")\n",
    "NEO4J_PASSWORD = os.getenv(\"NEO4J_PASSWORD\")\n",
    "\n",
    "# Validate that all required environment variables are set\n",
    "if not NEO4J_URI or not NEO4J_USER or not NEO4J_PASSWORD:\n",
    "    raise EnvironmentError(\"Missing Neo4j credentials. Please set NEO4J_URI, NEO4J_USER, and NEO4J_PASSWORD environment variables.\")\n",
    "\n",
    "# Establish the Neo4j driver connection\n",
    "driver = GraphDatabase.driver(NEO4J_URI, auth=(NEO4J_USER, NEO4J_PASSWORD))\n",
    "\n",
    "\n",
    "# Directory containing chunk files\n",
    "group_variables_dir = \"../data/data_extraction/GroupNodesWithVariables/\"  \n",
    "chunk_files = sorted(glob.glob(group_variables_dir + \"Processed_GroupNode_chunk_*.csv\"))\n",
    " \n",
    "\n",
    "for chunk_file in chunk_files:\n",
    "    df_chunk = pd.read_csv(chunk_file)\n",
    "\n",
    "    # Standardize column names\n",
    "    if \"Variable Name\" in df_chunk.columns:\n",
    "        df_chunk.rename(columns={\"Variable Name\": \"VariableName\"}, inplace=True)\n",
    "    if \"Group\" in df_chunk.columns:\n",
    "        df_chunk.rename(columns={\"Group\": \"GroupName\"}, inplace=True)\n",
    "\n",
    "    # Create SurveyGroupID if it doesn't already exist\n",
    "    if \"SurveyGroupID\" not in df_chunk.columns:\n",
    "        df_chunk[\"SurveyGroupID\"] = df_chunk[\"SurveyID\"] + \"_\" + df_chunk[\"GroupName\"]\n",
    "\n",
    "    # Create SurveyGroupVariableID as the unique key\n",
    "    df_chunk[\"SurveyGroupVariableID\"] = df_chunk[\"SurveyGroupID\"] + \"_\" + df_chunk[\"VariableName\"]\n",
    "\n",
    "    with driver.session() as session:\n",
    "        # Ingest variables in this chunk\n",
    "        for idx, row in tqdm(df_chunk.iterrows(), total=len(df_chunk), desc=f\"Loading {chunk_file}\"):\n",
    "            session.run(\"\"\"\n",
    "            MATCH (g:SurveyGroupNode {SurveyGroupID: $SurveyGroupID})\n",
    "            MERGE (v:SurveyVariableNode {\n",
    "                SurveyGroupID: $SurveyGroupID,\n",
    "                VariableName: $VariableName,\n",
    "                SurveyGroupVariableID: $SurveyGroupVariableID\n",
    "            })\n",
    "            ON CREATE SET v.Universe = $Universe,\n",
    "                          v.Concept = $Concept,\n",
    "                          v.MeasurementUnit = $MeasurementUnit,\n",
    "                          v.source = \"CSV_import\",\n",
    "                          v.enrichment_pass = 0,\n",
    "                          v.creation_timestamp = timestamp()\n",
    "            MERGE (g)-[:HAS_VARIABLE]->(v)\n",
    "            \"\"\",\n",
    "            SurveyGroupID=row[\"SurveyGroupID\"],\n",
    "            VariableName=row[\"VariableName\"],\n",
    "            SurveyGroupVariableID=row[\"SurveyGroupVariableID\"],\n",
    "            Universe=row.get(\"Universe\", None),\n",
    "            Concept=row.get(\"Concept\", None),\n",
    "            MeasurementUnit=row.get(\"MeasurementUnit\", None))\n",
    "\n",
    "    print(f\"Finished loading {chunk_file}\")\n",
    "\n",
    "print(\"All group-variable chunks loaded successfully.\")\n"
   ]
  },
  {
   "attachments": {},
   "cell_type": "markdown",
   "id": "2e6869c2-eca8-4c56-a3a7-fd141871db14",
   "metadata": {},
   "source": [
    "## Step 5: Quick data check and validation\n",
    "Focusing on data validation and quality checks before proceeding with LLM-based enrichment. This step involves:\n",
    "1. Creating Constraints and Indexes in Neo4j:\n",
    "    - To ensure data integrity and improve query performance, we’ll add uniqueness constraints and indexes. This helps detect unexpected duplicates and speeds up queries for enrichment and analysis.\n",
    "\n",
    "**Data Validation and Constraints**:\n",
    "Now that all data (surveys, examples, geography, groups, variables) is ingested, the next logical step is to validate and improve the data quality. This involves:\n",
    "- Adding Neo4j constraints to ensure uniqueness of certain identifiers (e.g., SurveyID, (SurveyID, GroupName), (SurveyID, VariableName)).\n",
    "- Reviewing logs and metrics to confirm that ingestion completed without errors or anomalies.\n",
    "\n",
    "**NOTE**: These checks are done before initiating LLM-driven enrichment as we would like to ensure that the knowledge graph is stable and consistent."
   ]
  },
  {
   "cell_type": "code",
   "execution_count": 26,
   "id": "a42b11c5-d3b4-44a7-aeeb-0a54e3a95ef5",
   "metadata": {},
   "outputs": [
    {
     "name": "stdout",
     "output_type": "stream",
     "text": [
      "Constraint for SurveyNode already exists.\n",
      "Constraint for SurveyGroupNode already exists.\n",
      "Constraint for SurveyVariableNode already exists.\n",
      "Constraints have been created or verified.\n"
     ]
    }
   ],
   "source": [
    "# Syntax is for Neo4j 4.5 ... \n",
    "# Next Step: Add Constraints\n",
    "\n",
    "# Add uniqueness constraints\n",
    "with driver.session() as session:\n",
    "    try:\n",
    "        # Create uniqueness constraint for SurveyNode\n",
    "        session.run(\"CREATE CONSTRAINT constraint_for_SurveyNode FOR (s:SurveyNode) REQUIRE s.SurveyID IS UNIQUE\")\n",
    "    except Exception as e:\n",
    "        if \"already exists\" in str(e):\n",
    "            print(\"Constraint for SurveyNode already exists.\")\n",
    "        else:\n",
    "            raise e\n",
    "\n",
    "    try:\n",
    "        # Create uniqueness constraint for SurveyGroupNode\n",
    "        session.run(\"CREATE CONSTRAINT constraint_for_SurveyGroupNode FOR (g:SurveyGroupNode) REQUIRE (g.SurveyID, g.GroupName) IS UNIQUE\")\n",
    "    except Exception as e:\n",
    "        if \"already exists\" in str(e):\n",
    "            print(\"Constraint for SurveyGroupNode already exists.\")\n",
    "        else:\n",
    "            raise e\n",
    "\n",
    "    try:\n",
    "        # Create uniqueness constraint for SurveyVariableNode\n",
    "        session.run(\"CREATE CONSTRAINT constraint_for_SurveyVariableNode FOR (v:SurveyVariableNode) REQUIRE (v.SurveyID, v.VariableName) IS UNIQUE\")\n",
    "    except Exception as e:\n",
    "        if \"already exists\" in str(e):\n",
    "            print(\"Constraint for SurveyVariableNode already exists.\")\n",
    "        else:\n",
    "            raise e\n",
    "\n",
    "print(\"Constraints have been created or verified.\")\n",
    "\n",
    "\n"
   ]
  },
  {
   "cell_type": "code",
   "execution_count": null,
   "id": "accaaf5d-ad83-445b-9e10-533b246d7ec1",
   "metadata": {},
   "outputs": [],
   "source": []
  },
  {
   "cell_type": "code",
   "execution_count": null,
   "id": "60043750-8668-4e29-9056-c1682f77b27c",
   "metadata": {},
   "outputs": [],
   "source": []
  },
  {
   "cell_type": "code",
   "execution_count": null,
   "id": "14d87851-54bf-4192-846b-151bca8cd43d",
   "metadata": {},
   "outputs": [],
   "source": []
  },
  {
   "cell_type": "code",
   "execution_count": null,
   "id": "69637ad4-db42-4f6b-9985-7e987adffa76",
   "metadata": {},
   "outputs": [],
   "source": []
  },
  {
   "cell_type": "code",
   "execution_count": null,
   "id": "733887b8-ce96-47d4-9bc4-014cd8d26f60",
   "metadata": {},
   "outputs": [],
   "source": []
  },
  {
   "cell_type": "code",
   "execution_count": null,
   "id": "b32a7c3a-74cb-49bd-aaab-8677165e815a",
   "metadata": {},
   "outputs": [],
   "source": []
  }
 ],
 "metadata": {
  "kernelspec": {
   "display_name": "Python (graphrag_env)",
   "language": "python",
   "name": "graphrag_env"
  },
  "language_info": {
   "codemirror_mode": {
    "name": "ipython",
    "version": 3
   },
   "file_extension": ".py",
   "mimetype": "text/x-python",
   "name": "python",
   "nbconvert_exporter": "python",
   "pygments_lexer": "ipython3",
   "version": "3.11.8"
  }
 },
 "nbformat": 4,
 "nbformat_minor": 5
}
